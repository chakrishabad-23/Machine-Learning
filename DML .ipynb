{
  "nbformat": 4,
  "nbformat_minor": 0,
  "metadata": {
    "colab": {
      "provenance": [],
      "include_colab_link": true
    },
    "kernelspec": {
      "name": "python3",
      "display_name": "Python 3"
    },
    "language_info": {
      "name": "python"
    }
  },
  "cells": [
    {
      "cell_type": "markdown",
      "metadata": {
        "id": "view-in-github",
        "colab_type": "text"
      },
      "source": [
        "<a href=\"https://colab.research.google.com/github/chakrishabad-23/Machine-Learning/blob/main/DML%20.ipynb\" target=\"_parent\"><img src=\"https://colab.research.google.com/assets/colab-badge.svg\" alt=\"Open In Colab\"/></a>"
      ]
    },
    {
      "cell_type": "markdown",
      "source": [
        "# Task for SQL DML session\n",
        "\n",
        "Load this dataset in your database and perform below given tasks.\n",
        "\n",
        "DataSet - https://docs.google.com/spreadsheets/d/e/2PACX-1vRa1wWwXmzxEvqITxj4OQTeLywlGTTsOTbhSRqKj2lPuGefjlci-DQhgLBPpgWXe8AAUu2WUBqY59X1/pub?gid=1030172542&single=true&output=csv\n",
        "\n",
        "Look for data description\n",
        "\n",
        "Kaggle - https://www.kaggle.com/datasets/thedevastator/insurance-claim-analysis-demographic-and-health?select=insurance_data.csv"
      ],
      "metadata": {
        "id": "O-kYKh3Z3HoZ"
      }
    },
    {
      "cell_type": "markdown",
      "source": [
        "### Perform the following queries\n",
        "\n",
        "1. Show records of 'male' patient from 'southwest' region.\n",
        "2. Show all records having bmi in range 30 to 45 both inclusive.\n",
        "3. Show minimum and maximum bloodpressure of diabetic patient who smokes. Make column names as MinBP and MaxBP respectively.\n",
        "4. Find no of unique patients who are not from southwest region.\n",
        "5. Total claim amount from male smoker.\n",
        "6. Select all records of south region.\n",
        "7. No of patient having normal blood pressure. Normal range[90-120]\n",
        "8. No of pateint belo 17 years of age having normal blood pressure as per below formula -\n",
        "    - BP normal range = 80+(age in years × 2) to 100 + (age in years × 2)\n",
        "\n",
        "    - Note: Formula taken just for practice, don't take in real sense.\n",
        "9. What is the average claim amount for non-smoking female patients who are diabetic?\n",
        "10. Write a SQL query to update the claim amount for the patient with PatientID = 1234 to 5000.\n",
        "11. Write a SQL query to delete all records for patients who are smokers and have no children.\n"
      ],
      "metadata": {
        "id": "HgeiRIpI3MjR"
      }
    },
    {
      "cell_type": "code",
      "source": [
        "1st select * from insurance_data WHERE gender='male' AND region='southwest';\n",
        "2nd select * from insurance_data WHERE bmi BETWEEN 30 AND 45;\n",
        "3rd SELECT MIN(bloodpressure) AS MinBP, MAX(bloodpressure) AS MaxBP FROM insurance_data WHERE smoker='Yes';\n",
        "4th SELECT COUNT(DISTINCT(PatientID)) FROM insurance_data WHERE region!='southwest';\n",
        "5th SELECT ROUND(SUM(claim)) FROM insurance_data WHERE smoker='Yes' AND gender='male';\n",
        "6th SELECT * from insurance_data WHERE region in ('southwest','southeast');\n",
        "7th SELECT COUNT(PatientID) FROM insurance_data WHERE bloodpressure BETWEEN 90 AND 120;\n",
        "8th SELECT * FROM insurance_data WHERE age<=17 AND bloodpressure BETWEEN (80+(age*2)) AND (100+(age*2));\n",
        "9th SELECT AVG(claim) from campusx.insurance_data WHERE gender='female' AND smoker='Yes' AND diabetic='Yes';\n",
        "10th UPDATE campusx.insurance_data SET claim=5000 WHERE PatientID=1234;\n",
        "11th DELETE FROM campusx.insurance_data WHERE smoker='Yes' AND children=0;\n",
        "\n",
        "\n",
        "\n"
      ],
      "metadata": {
        "id": "56rYZ7bf3IJh"
      },
      "execution_count": null,
      "outputs": []
    }
  ]
}